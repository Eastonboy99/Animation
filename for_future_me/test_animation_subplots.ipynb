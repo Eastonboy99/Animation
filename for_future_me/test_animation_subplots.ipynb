{
 "cells": [
  {
   "cell_type": "markdown",
   "metadata": {
    "collapsed": false
   },
   "source": [
    "README Future me\n",
    "\n",
    "This notebook is a barebones animation notebook.\n",
    "Use this to plot beats, interference between two waves with similar frequencies and wavelengths"
   ]
  },
  {
   "cell_type": "code",
   "execution_count": 44,
   "metadata": {
    "collapsed": true
   },
   "outputs": [],
   "source": [
    "#Standard libraries\n",
    "import numpy as np\n",
    "import matplotlib.pyplot as plt\n"
   ]
  },
  {
   "cell_type": "code",
   "execution_count": 45,
   "metadata": {
    "collapsed": false
   },
   "outputs": [
    {
     "data": {
      "text/plain": [
       "(<matplotlib.figure.Figure at 0x1dac4357c18>,\n",
       " array([[<matplotlib.axes._subplots.AxesSubplot object at 0x000001DAC43E3E10>,\n",
       "         <matplotlib.axes._subplots.AxesSubplot object at 0x000001DAC4433438>],\n",
       "        [<matplotlib.axes._subplots.AxesSubplot object at 0x000001DAC446DC50>,\n",
       "         <matplotlib.axes._subplots.AxesSubplot object at 0x000001DAC44BC860>]], dtype=object))"
      ]
     },
     "execution_count": 45,
     "metadata": {},
     "output_type": "execute_result"
    }
   ],
   "source": [
    "plt.subplots(2,2)"
   ]
  },
  {
   "cell_type": "code",
   "execution_count": 46,
   "metadata": {
    "collapsed": false
   },
   "outputs": [],
   "source": [
    "#Setting up graph\n",
    "\n",
    "fig,([ax1,ax2],[ax3,ax4]) = plt.subplots(2,2)\n",
    "axis = [ax1,ax2,ax3,ax4]\n",
    "for ax in axis:\n",
    "    ax.set_ylim(-1,1)\n",
    "    ax.set_xlim(-np.pi,np.pi)"
   ]
  },
  {
   "cell_type": "code",
   "execution_count": 47,
   "metadata": {
    "collapsed": false
   },
   "outputs": [],
   "source": [
    "#Setting up sine-wave\n",
    "\n",
    "#This initializes the line object to x= [],y=[]\n",
    "\n",
    "#IMPORT DISTINCTION IN PYTHON\n",
    "#Try it fuure me if you don't believe me.\n",
    "#line, --- means type(line) == matplolib\n",
    "#line --- on the otherhand means type(line) == list\n",
    "\n",
    "line, = ax1.plot([],[],lw = 1,c= 'k')\n",
    "line2, = ax2.plot([],[],lw = 1,c= 'k')\n",
    "line3, = ax3.plot([],[],lw = 1,c= 'k')"
   ]
  },
  {
   "cell_type": "code",
   "execution_count": 48,
   "metadata": {
    "collapsed": false
   },
   "outputs": [],
   "source": [
    "#the variable i denotes the value changing each frame of the animation\n",
    "\n",
    "#Initializes the animation\n",
    "def initialize_animation():\n",
    "    line.set_data([],[])\n",
    "    line2.set_data([],[])\n",
    "    line3.set_data([],[])\n",
    "    #line, returns a tuple, NOT matplotlib object\n",
    "    return line,"
   ]
  },
  {
   "cell_type": "markdown",
   "metadata": {},
   "source": [
    "!!!Change the following parameters to produce different wave effects!!!\n",
    "\n",
    "Packet wavelength ~ dk/k\n",
    "\n",
    "Packet oscillation ~ k\n",
    "\n",
    "Wave speed ~ dw/w\n",
    "\n",
    "Packet speed ~ w"
   ]
  },
  {
   "cell_type": "code",
   "execution_count": 49,
   "metadata": {
    "collapsed": true
   },
   "outputs": [],
   "source": [
    "\n",
    "k,dk,w,dw =  -3,0.3,-1,0.01\n",
    "\n"
   ]
  },
  {
   "cell_type": "code",
   "execution_count": 50,
   "metadata": {
    "collapsed": false
   },
   "outputs": [],
   "source": [
    "#Number of linespace spacings\n",
    "length = 250\n",
    "x = np.linspace(-np.pi,np.pi,length)\n",
    "\n",
    "#The frame generation function\n",
    "def animate(t):    \n",
    "    global length,x\n",
    "    global k,dk,w,dw\n",
    "    #omega is used for omega*t distance offset\n",
    "    y1 = np.sin(2*np.pi*((k+dk)*x + (w + dw)*t))\n",
    "    y2 = np.sin(2*np.pi*((k-dk)*x + (w - dw)*t))\n",
    "    y = y1+y2\n",
    "    \n",
    "    \n",
    "    line.set_data(x,y)\n",
    "    line2.set_data(x,y1)\n",
    "    line3.set_data(x,y2)\n",
    "    \n",
    "    return line, line2,line3,"
   ]
  },
  {
   "cell_type": "code",
   "execution_count": null,
   "metadata": {
    "collapsed": true
   },
   "outputs": [],
   "source": [
    "#Animation plotting libraries\n",
    "\n",
    "from IPython.display import HTML\n",
    "import matplotlib.animation as animation"
   ]
  },
  {
   "cell_type": "code",
   "execution_count": null,
   "metadata": {
    "collapsed": false
   },
   "outputs": [],
   "source": [
    "#Genrating the animation\n",
    "\n",
    "ani = animation.FuncAnimation(fig, animate, np.arange(1,len(x)), interval=30, blit=True, init_func=initialize_animation)\n",
    "\n",
    "#Generates HTML plot\n",
    "HTML(ani.to_html5_video())"
   ]
  },
  {
   "cell_type": "code",
   "execution_count": null,
   "metadata": {
    "collapsed": false
   },
   "outputs": [],
   "source": [
    "\n",
    "#To save animation, comment out the sys.exit()\n",
    "#import sys\n",
    "#sys.exit()\n",
    "    \n",
    "#Save animation\n",
    "Writer = animation.writers['ffmpeg']\n",
    "writer = Writer(fps = 30,extra_args=['-vcodec', 'libx264'])\n",
    "dpi = 100\n",
    "\n",
    "ani.save('beats_animation.mp4', writer = writer,dpi = dpi)"
   ]
  }
 ],
 "metadata": {
  "anaconda-cloud": {},
  "kernelspec": {
   "display_name": "Python [conda root]",
   "language": "python",
   "name": "conda-root-py"
  },
  "language_info": {
   "codemirror_mode": {
    "name": "ipython",
    "version": 3
   },
   "file_extension": ".py",
   "mimetype": "text/x-python",
   "name": "python",
   "nbconvert_exporter": "python",
   "pygments_lexer": "ipython3",
   "version": "3.5.2"
  }
 },
 "nbformat": 4,
 "nbformat_minor": 2
}
