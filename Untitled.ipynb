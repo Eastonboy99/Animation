{
 "cells": [
  {
   "cell_type": "code",
   "execution_count": 26,
   "metadata": {
    "collapsed": true
   },
   "outputs": [],
   "source": [
    "import random\n",
    "import matplotlib.pyplot as plt\n",
    "random.seed(1)"
   ]
  },
  {
   "cell_type": "code",
   "execution_count": 33,
   "metadata": {
    "collapsed": true
   },
   "outputs": [],
   "source": [
    "# -*- coding: utf-8 -*-\n",
    "\"\"\"\n",
    "Created on Mon Jan 16 17:55:37 2017\n",
    "\n",
    "@author: John\n",
    "\"\"\"\n",
    "\n",
    "def selection_sort(L):\n",
    "    #compare all entries in L and find smallest\n",
    "    #swap the smallest into the start of L \n",
    "    for j in range(len(L)):\n",
    "        key = j\n",
    "        for i in range(j+1,len(L)):\n",
    "            if L[i] < L[key]:\n",
    "                key = i\n",
    "        L[j],L[key] = L[key],L[j]       \n",
    "    \n",
    "    return L        \n",
    "    pass\n",
    "#Lessons from selection_sort: 1. Make sure key init. are in the correct loop.\n",
    "def insertion_sort(L):\n",
    "    #j starts at   1 because the algorithm starts with 1 values, and inserts subsequent values in between, Hence insertion_sort\n",
    "    #key refers to theelement to be inserted\n",
    "    for j in range(1,len(L)):\n",
    "        key = j\n",
    "        while (L[key] < L[key-1]) and key > 0:\n",
    "            L[key],L[key-1] = L[key-1],L[key]\n",
    "            key -= 1\n",
    "    return(L)       \n",
    "#Lessons from insertion: 1. Even though you are inserting, the first 2 elements could be out of order, hence start from 1 value       \n",
    "\n",
    "def bubble_sort1(L):\n",
    "    for i in range(len(L)):\n",
    "        for j in range(len(L)-1):\n",
    "            if L[j+1]<L[j]:\n",
    "                L[j],L[j+1] = L[j+1],L[j]\n",
    "    print(i)    \n",
    "    return(L)\n",
    "    \n",
    "def bubble_sort2(L):\n",
    "    \n",
    "    for i in range(len(L)):\n",
    "        a=0    \n",
    "        for j in range(len(L)-1):\n",
    "            if L[j+1]<L[j]:\n",
    "                L[j],L[j+1] = L[j+1],L[j]\n",
    "                a+=1\n",
    "        if a == 0:\n",
    "            break\n",
    "    print(i)\n",
    "    return(L)\n",
    "#Lessonsfrom bubblesort:1.Really dumb and slow. 2. bsort2 breaks loop as the list is sorted \n",
    "#but it will take longer than bsort1 as the inital list approaches worst case. 3. bsort1 is always O(n^2)\n",
    "\n",
    "def merge_sort(L,l,h):\n",
    "#mergesort is a recursive program. recieves highs and lows\n",
    "    mid = int((l+h)/2) \n",
    "    if h-l > 2:               #Keep dividing until there are 2 or less amount ofelements\n",
    "        merge_sort(L,l,mid)    #Divide\n",
    "        merge_sort(L,mid,h)    #Divide\n",
    "    # 2 piles, sort by grabbing lowest from each pile\n",
    "    Q,P = l,mid #Q and P are changable, changing l,mid,h is a bad idea as the L[l:h] depends on these indices\n",
    "    A = []\n",
    "    while (Q<mid) & (P < h):    \n",
    "        if L[Q] < L[P]:\n",
    "            A += [L[Q]]\n",
    "            Q+=1\n",
    "        else:\n",
    "            A += [L[P]]\n",
    "            P+=1\n",
    "\n",
    "    if (Q < mid):\n",
    "        A += L[Q:mid]\n",
    "    if (P < h):\n",
    "        A += L[P:h]\n",
    "    L[l:h] = A[:]    #replaces the subarray with the sorted subarray\n",
    "  \n",
    "    return L    \n",
    "#Lessons from merge_sort: 1.O(nln (n)) is fast 2. Always ensure you keep indices constant\n",
    "def merge_sort2(alist):\n",
    "\n",
    "    if len(alist)>1:\n",
    "        mid = len(alist)//2\n",
    "        lefthalf = alist[:mid]\n",
    "        righthalf = alist[mid:]\n",
    "\n",
    "        merge_sort2(lefthalf)\n",
    "        merge_sort2(righthalf)\n",
    "\n",
    "        i=0\n",
    "        j=0\n",
    "        k=0\n",
    "        while i < len(lefthalf) and j < len(righthalf):\n",
    "            if lefthalf[i] < righthalf[j]:\n",
    "                alist[k]=lefthalf[i]\n",
    "                i=i+1\n",
    "            else:\n",
    "                alist[k]=righthalf[j]\n",
    "                j=j+1\n",
    "            k=k+1\n",
    "\n",
    "        while i < len(lefthalf):\n",
    "            alist[k]=lefthalf[i]\n",
    "            i=i+1\n",
    "            k=k+1\n",
    "\n",
    "        while j < len(righthalf):\n",
    "            alist[k]=righthalf[j]\n",
    "            j=j+1\n",
    "            k=k+1\n",
    "#==============================================================================\n",
    "# QUICKSORT AND VARIATIONS!\n",
    "#==============================================================================\n",
    "#Note, anything up to and including part is low, everything else is high\n",
    "def quick_sort1(L,l,h):\n",
    "#Sort by using pointers on left and swapping left, pivot on the right\n",
    "# a. PARTITION b. POINTER\n",
    "# Structure: [0:p | p | p+1:n]\n",
    "  if l < h:\n",
    "    p = partition1(L,l,h)\n",
    "    quick_sort1(L,l,p-1)\n",
    "    quick_sort1(L,p+1,h) \n",
    "  retur\n",
    "def partition1(L,l,h):\n",
    "  p = l\n",
    "  \n",
    "  for i in range(l,h):\n",
    "    if L[i] <= L[h-1]:\n",
    "      L[i],L[p] = L[p],L[i]\n",
    "      p+=1\n",
    "  return p\n",
    "\n",
    "def quick_sort2(L,l,h):\n",
    "#quicksort2 has the same algorithm as quicksort1 but it contains extra swaps\n",
    "#which decrease efficiency\n",
    "  if l < h:\n",
    "    p = partition2(L,l,h)\n",
    "    quick_sort2(L,l,p-1)\n",
    "    quick_sort2(L,p+1,h) \n",
    "    \n",
    "    \n",
    "def partition2(L,l,h):\n",
    "  pivot = h-1\n",
    "  part = l\n",
    "  for i in range(l,pivot):\n",
    "    if L[i] <= L[pivot]:\n",
    "      L[i],L[part] = L[part],L[i]\n",
    "      part += 1\n",
    "  L[part],L[pivot]=L[pivot],L[part]# this increases the amount of swaps done    \n",
    "  return part\n",
    "\n",
    "def quick_sort3(L,l,h):\n",
    "  if l < h:\n",
    "    p = partition3(L,l,h)\n",
    "    quick_sort3(L,l,p)\n",
    "    quick_sort3(L,p+1,h) \n",
    "\n",
    "def partition3(L,l,h):\n",
    "  #QUICKSORT DUAL PIVOT EDITION\n",
    "  part1,part2 = pivot1,pivot2 = l,h-1\n",
    "\n",
    "  pass\n",
    "\n"
   ]
  },
  {
   "cell_type": "code",
   "execution_count": 28,
   "metadata": {
    "collapsed": false
   },
   "outputs": [],
   "source": [
    "def quick_sort4(L):\n",
    "    m = len(L)/2\n",
    "    l = [x for x in L[:m]]\n",
    "    m = [x for x in L[m] ]\n",
    "    h = [x for x in L[m:]]\n",
    "    quick_sort4(l)\n",
    "    quick_sort4(m)\n",
    "    quick_sort4(h)\n",
    "    return L\n",
    "         "
   ]
  },
  {
   "cell_type": "code",
   "execution_count": 29,
   "metadata": {
    "collapsed": false
   },
   "outputs": [],
   "source": [
    "a = 100\n",
    "L = [i for i in range(a)]\n",
    "ind = [i for i in range(a)]\n",
    "\n",
    "\n",
    "random.shuffle(L)\n",
    "A = tuple(L)\n"
   ]
  },
  {
   "cell_type": "code",
   "execution_count": 30,
   "metadata": {
    "collapsed": false
   },
   "outputs": [
    {
     "data": {
      "image/png": "[encoded data removed]",
      "text/plain": [
       "<matplotlib.figure.Figure at 0x1ca9a0026a0>"
      ]
     },
     "metadata": {},
     "output_type": "display_data"
    }
   ],
   "source": [
    "plt.figure()\n",
    "plt.scatter(ind,L)\n",
    "plt.show()"
   ]
  },
  {
   "cell_type": "code",
   "execution_count": 34,
   "metadata": {
    "collapsed": false
   },
   "outputs": [],
   "source": [
    "\n",
    "#A = list(reversed(L))\n",
    "#==============================================================================\n",
    "# #Slower alg\n",
    "#==============================================================================\n",
    "#insertion_sort(list(A))\n",
    "#selection_sort(list(A))\n",
    "#bubble_sort1(list(A))\n",
    "#bubble_sort2(list(A))\n",
    "#==============================================================================\n",
    "# #Faster Alg\n",
    "#==============================================================================\n",
    "#merge_sort(list(A), 0, len(A))\n",
    "#merge_sort2(list(A))\n",
    "#quick_sort1(list(A), 0, len(A))\n",
    "B = quick_sort2(list(A), 0, len(A))\n",
    "#quick_sort3(list(A), 0, len(A))\n",
    "#merge_sort2(NOTMYALG) is worse than my merge alg:C\n",
    "    "
   ]
  },
  {
   "cell_type": "code",
   "execution_count": 36,
   "metadata": {
    "collapsed": false
   },
   "outputs": [
    {
     "data": {
      "text/plain": [
       "NoneType"
      ]
     },
     "execution_count": 36,
     "metadata": {},
     "output_type": "execute_result"
    }
   ],
   "source": [
    "type(B)"
   ]
  }
 ],
 "metadata": {
  "kernelspec": {
   "display_name": "Python [conda root]",
   "language": "python",
   "name": "conda-root-py"
  },
  "language_info": {
   "codemirror_mode": {
    "name": "ipython",
    "version": 3
   },
   "file_extension": ".py",
   "mimetype": "text/x-python",
   "name": "python",
   "nbconvert_exporter": "python",
   "pygments_lexer": "ipython3",
   "version": "3.5.2"
  }
 },
 "nbformat": 4,
 "nbformat_minor": 2
}
